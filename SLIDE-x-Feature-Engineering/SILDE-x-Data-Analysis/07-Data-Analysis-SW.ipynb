{
 "cells": [
  {
   "cell_type": "code",
   "execution_count": 1,
   "id": "810626f7",
   "metadata": {},
   "outputs": [],
   "source": [
    "# import modules \n",
    "import matplotlib.pyplot as mp \n",
    "import pandas as pd \n",
    "import seaborn as sns \n",
    "import numpy as np\n",
    "from pylab import savefig"
   ]
  },
  {
   "cell_type": "code",
   "execution_count": null,
   "id": "94021677",
   "metadata": {},
   "outputs": [],
   "source": [
    "# import file with data \n",
    "data=pd.read_csv(\"Dataset/csv/Train/ArmTrainTest.csv\") \n",
    "saveFolderImg = \"Heatmap-Arm/\""
   ]
  },
  {
   "cell_type": "code",
   "execution_count": null,
   "id": "e26b599d",
   "metadata": {},
   "outputs": [],
   "source": [
    "# Clock Cycles\n",
    "CC_code = data.iloc[:, np.r_[49, 14:48]] # Code Features\n",
    "CC_array = data.iloc[:, np.r_[49, 52:83]] # Scalar, Index and Vector Features\n",
    "CC_matrix = data.iloc[:, np.r_[49, 84:115]] # Matrix Features"
   ]
  },
  {
   "cell_type": "code",
   "execution_count": null,
   "id": "28b4fddc",
   "metadata": {},
   "outputs": [],
   "source": [
    "# Calculate the correlation matrix\n",
    "correlation_matrix = CC_code.corr()\n",
    "\n",
    "# Create the heatmap\n",
    "mp.figure(figsize = (10,8))\n",
    "\n",
    "# plotting correlation heatmap \n",
    "sns_plot = sns.heatmap(correlation_matrix, cmap='coolwarm', linecolor='white', linewidths=1) \n",
    "\n",
    "sns_plot.set_xticklabels(sns_plot.get_xmajorticklabels(), fontsize = 9)\n",
    "sns_plot.set_yticklabels(sns_plot.get_ymajorticklabels(), fontsize = 9)\n",
    "\n",
    "# sns.set(font_scale=1)\n",
    "sns_plot.figure.savefig(saveFolderImg+'CC_code.png', dpi=300, bbox_inches='tight')\n",
    "\n",
    "correlation_matrix.to_csv(saveFolderImg+'CC_code.csv')\n",
    "  \n",
    "# displaying heatmap \n",
    "# mp.show()"
   ]
  },
  {
   "cell_type": "code",
   "execution_count": null,
   "id": "c99b91e9",
   "metadata": {},
   "outputs": [],
   "source": [
    "# Calculate the correlation matrix\n",
    "correlation_matrix = CC_array.corr()\n",
    "\n",
    "# Create the heatmap\n",
    "mp.figure(figsize = (10,8))\n",
    "\n",
    "# plotting correlation heatmap \n",
    "sns_plot = sns.heatmap(correlation_matrix, cmap='coolwarm', linecolor='white', linewidths=1) \n",
    "\n",
    "sns_plot.set_xticklabels(sns_plot.get_xmajorticklabels(), fontsize = 9)\n",
    "sns_plot.set_yticklabels(sns_plot.get_ymajorticklabels(), fontsize = 9)\n",
    "\n",
    "# sns.set(font_scale=1)\n",
    "sns_plot.figure.savefig(saveFolderImg+'CC_array.png', dpi=300, bbox_inches='tight')\n",
    "\n",
    "correlation_matrix.to_csv(saveFolderImg+'CC_array.csv')\n",
    "  \n",
    "# displaying heatmap \n",
    "# mp.show()"
   ]
  },
  {
   "cell_type": "code",
   "execution_count": null,
   "id": "8f9292bd",
   "metadata": {},
   "outputs": [],
   "source": [
    "# Calculate the correlation matrix\n",
    "correlation_matrix = CC_matrix.corr()\n",
    "\n",
    "# Create the heatmap\n",
    "mp.figure(figsize = (10,8))\n",
    "\n",
    "# plotting correlation heatmap \n",
    "sns_plot = sns.heatmap(correlation_matrix, cmap='coolwarm', linecolor='white', linewidths=1) \n",
    "\n",
    "sns_plot.set_xticklabels(sns_plot.get_xmajorticklabels(), fontsize = 9)\n",
    "sns_plot.set_yticklabels(sns_plot.get_ymajorticklabels(), fontsize = 9)\n",
    "\n",
    "# sns.set(font_scale=1)\n",
    "sns_plot.figure.savefig(saveFolderImg+'CC_matrix.png', dpi=300, bbox_inches='tight')\n",
    "\n",
    "correlation_matrix.to_csv(saveFolderImg+'CC_matrix.csv')\n",
    "  \n",
    "# displaying heatmap \n",
    "# mp.show()"
   ]
  }
 ],
 "metadata": {
  "kernelspec": {
   "display_name": "Python 3 (ipykernel)",
   "language": "python",
   "name": "python3"
  },
  "language_info": {
   "codemirror_mode": {
    "name": "ipython",
    "version": 3
   },
   "file_extension": ".py",
   "mimetype": "text/x-python",
   "name": "python",
   "nbconvert_exporter": "python",
   "pygments_lexer": "ipython3",
   "version": "3.11.5"
  }
 },
 "nbformat": 4,
 "nbformat_minor": 5
}
